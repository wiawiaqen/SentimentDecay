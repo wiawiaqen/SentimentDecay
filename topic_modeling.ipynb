{
 "cells": [
  {
   "cell_type": "code",
   "execution_count": null,
   "metadata": {},
   "outputs": [],
   "source": [
    "from bertopic import BERTopic\n",
    "import pandas as pd \n",
    "import spacy\n",
    "import re\n",
    "df = pd.read_csv('data/raw_news/reuters_headlines.csv')\n",
    "\n",
    "nlp = spacy.load(\"en_core_web_sm\")\n",
    "\n",
    "# Preprocess function to apply to each headline\n",
    "def preprocess_text(text):\n",
    "    # Lowercasing\n",
    "    text = text.lower()\n",
    "    \n",
    "    # Removing special characters and numbers\n",
    "    text = re.sub(r'\\W', ' ', text)\n",
    "    \n",
    "    # Lemmatization (using spaCy)\n",
    "    doc = nlp(text)\n",
    "    text = ' '.join([token.lemma_ for token in doc if not token.is_stop])\n",
    "    \n",
    "    return text\n",
    "\n",
    "# Apply preprocessing to 'Headlines' column\n",
    "df['Preprocessed_Headlines'] = df['Headlines'].apply(preprocess_text)\n",
    "\n",
    "\n",
    "# Create a BERTopic model\n",
    "topic_model = BERTopic()\n",
    "\n",
    "# Fit the model on the data\n",
    "topics, probs = topic_model.fit_transform(df['Preprocessed_Headlines'])\n",
    "df['Headlines'] = df['Headlines'].astype(str)\n",
    "topic_model = BERTopic()\n",
    "topics, probs = topic_model.fit_transform(df['Headlines'])\n",
    "embedding_model = \"sentence-transformers/all-MiniLM-L6-v2\"\n",
    "topic_model.save(\"models/pretrained_models/bertopic_model\", serialization=\"pytorch\", save_ctfidf=True, save_embedding_model=embedding_model)\n"
   ]
  },
  {
   "cell_type": "code",
   "execution_count": 6,
   "metadata": {},
   "outputs": [],
   "source": [
    "from bertopic import BERTopic\n",
    "import pandas as pd \n",
    "import spacy\n",
    "import re\n",
    "nlp = spacy.load(\"en_core_web_sm\")\n",
    "\n",
    "# Preprocess function to apply to each headline\n",
    "def preprocess_text(text):\n",
    "    # Lowercasing\n",
    "    text = text.lower()\n",
    "    \n",
    "    # Removing special characters and numbers\n",
    "    text = re.sub(r'\\W', ' ', text)\n",
    "    \n",
    "    # Lemmatization (using spaCy)\n",
    "    doc = nlp(text)\n",
    "    text = ' '.join([token.lemma_ for token in doc if not token.is_stop])\n",
    "    \n",
    "    return text\n",
    "\n",
    "embedding_model = \"sentence-transformers/all-MiniLM-L6-v2\"\n",
    "model = BERTopic.load(\"models/pretrained_models/bertopic_model\", embedding_model=embedding_model)\n",
    "text = \"Brazil mulls cutting ethanol import tax in nod to Trump, report says\"\n",
    "preprocessed_text = preprocess_text(text)\n",
    "topic, probs = model.transform(preprocessed_text)\n"
   ]
  },
  {
   "cell_type": "code",
   "execution_count": 9,
   "metadata": {},
   "outputs": [
    {
     "data": {
      "text/plain": [
       "[111]"
      ]
     },
     "execution_count": 9,
     "metadata": {},
     "output_type": "execute_result"
    }
   ],
   "source": [
    "topic.tolist()"
   ]
  },
  {
   "cell_type": "code",
   "execution_count": 5,
   "metadata": {},
   "outputs": [
    {
     "data": {
      "text/plain": [
       "[('biofuel', 0.09927773644961857),\n",
       " ('ethanol', 0.07225399887043879),\n",
       " ('epa', 0.0650285989833949),\n",
       " ('biofuels', 0.06314934046237536),\n",
       " ('waiver', 0.03545633444629235),\n",
       " ('efficiency', 0.034250655452576606),\n",
       " ('fuel', 0.029886425662963827),\n",
       " ('farmers', 0.02506237079476478),\n",
       " ('farmer', 0.024325525966124494),\n",
       " ('e15', 0.021307291959379734)]"
      ]
     },
     "execution_count": 5,
     "metadata": {},
     "output_type": "execute_result"
    }
   ],
   "source": [
    "topic_model.get_topic(111)"
   ]
  }
 ],
 "metadata": {
  "kernelspec": {
   "display_name": ".venv",
   "language": "python",
   "name": "python3"
  },
  "language_info": {
   "codemirror_mode": {
    "name": "ipython",
    "version": 3
   },
   "file_extension": ".py",
   "mimetype": "text/x-python",
   "name": "python",
   "nbconvert_exporter": "python",
   "pygments_lexer": "ipython3",
   "version": "3.10.11"
  }
 },
 "nbformat": 4,
 "nbformat_minor": 2
}
